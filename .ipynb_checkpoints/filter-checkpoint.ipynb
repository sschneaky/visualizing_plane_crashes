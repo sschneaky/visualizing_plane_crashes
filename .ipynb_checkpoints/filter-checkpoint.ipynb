{
 "cells": [
  {
   "cell_type": "code",
   "execution_count": 1,
   "metadata": {},
   "outputs": [],
   "source": [
    "import json\n",
    "import pprint\n",
    "import pandas as pd"
   ]
  },
  {
   "cell_type": "code",
   "execution_count": 2,
   "metadata": {},
   "outputs": [
    {
     "data": {
      "text/plain": [
       "Index(['airport_id', 'name', 'city', 'country', 'iata_faa', 'iaco', 'latitude',\n",
       "       'longitude', 'altitude', 'zone', 'dst'],\n",
       "      dtype='object')"
      ]
     },
     "execution_count": 2,
     "metadata": {},
     "output_type": "execute_result"
    }
   ],
   "source": [
    "with open(\"data/AviationData.json\", 'rb') as f:\n",
    "    data = json.loads(f.read())\n",
    "    \n",
    "    \n",
    "airports = pd.read_csv('data/global_airports.csv')\n",
    "airports.columns"
   ]
  },
  {
   "cell_type": "code",
   "execution_count": 3,
   "metadata": {},
   "outputs": [
    {
     "data": {
      "text/plain": [
       "{'AccidentNumber': 'GAA18CA162',\n",
       " 'AirCarrier': '',\n",
       " 'AircraftCategory': 'Airplane',\n",
       " 'AircraftDamage': 'Substantial',\n",
       " 'AirportCode': 'PGD',\n",
       " 'AirportName': 'PUNTA GORDA',\n",
       " 'AmateurBuilt': 'No',\n",
       " 'BroadPhaseOfFlight': '',\n",
       " 'Country': 'United States',\n",
       " 'EngineType': '',\n",
       " 'EventDate': '03/13/2018',\n",
       " 'EventId': '20180313X71951',\n",
       " 'FARDescription': 'Part 91: General Aviation',\n",
       " 'InjurySeverity': 'Non-Fatal',\n",
       " 'InvestigationType': 'Accident',\n",
       " 'Latitude': '26.918334',\n",
       " 'Location': 'Punta Gorda, FL',\n",
       " 'Longitude': '-81.996666',\n",
       " 'Make': 'AEROPRO CZ',\n",
       " 'Model': 'EUROFOX LSA',\n",
       " 'NumberOfEngines': '1',\n",
       " 'PublicationDate': '03/14/2018',\n",
       " 'PurposeOfFlight': 'Personal',\n",
       " 'RegistrationNumber': 'N989G',\n",
       " 'ReportStatus': 'Preliminary',\n",
       " 'Schedule': '',\n",
       " 'TotalFatalInjuries': '',\n",
       " 'TotalMinorInjuries': '2',\n",
       " 'TotalSeriousInjuries': '',\n",
       " 'TotalUninjured': '',\n",
       " 'WeatherCondition': ''}"
      ]
     },
     "execution_count": 3,
     "metadata": {},
     "output_type": "execute_result"
    }
   ],
   "source": [
    "data[0]"
   ]
  },
  {
   "cell_type": "code",
   "execution_count": 4,
   "metadata": {},
   "outputs": [],
   "source": [
    "def nFilter(filters, tuples):\n",
    "    return filter(lambda x: all(f(x) for f in filters), tuples)"
   ]
  },
  {
   "cell_type": "code",
   "execution_count": 5,
   "metadata": {},
   "outputs": [
    {
     "ename": "NameError",
     "evalue": "name 'EventDate' is not defined",
     "output_type": "error",
     "traceback": [
      "\u001b[0;31m----------------------------------------------------------\u001b[0m",
      "\u001b[0;31mNameError\u001b[0m                Traceback (most recent call last)",
      "\u001b[0;32m<ipython-input-5-e3f5f7665eff>\u001b[0m in \u001b[0;36m<module>\u001b[0;34m()\u001b[0m\n\u001b[1;32m      6\u001b[0m     \u001b[0mcrash\u001b[0m\u001b[0;34m[\u001b[0m\u001b[0;34m'airport_lat'\u001b[0m\u001b[0;34m]\u001b[0m  \u001b[0;34m=\u001b[0m \u001b[0mlat\u001b[0m\u001b[0;34m.\u001b[0m\u001b[0mvalues\u001b[0m\u001b[0;34m[\u001b[0m\u001b[0;36m0\u001b[0m\u001b[0;34m]\u001b[0m \u001b[0;32mif\u001b[0m \u001b[0;32mnot\u001b[0m \u001b[0mlat\u001b[0m\u001b[0;34m.\u001b[0m\u001b[0mempty\u001b[0m \u001b[0;32melse\u001b[0m \u001b[0;32mNone\u001b[0m\u001b[0;34m\u001b[0m\u001b[0m\n\u001b[1;32m      7\u001b[0m     \u001b[0mcrash\u001b[0m\u001b[0;34m[\u001b[0m\u001b[0;34m'airport_long'\u001b[0m\u001b[0;34m]\u001b[0m  \u001b[0;34m=\u001b[0m \u001b[0mlong\u001b[0m\u001b[0;34m.\u001b[0m\u001b[0mvalues\u001b[0m\u001b[0;34m[\u001b[0m\u001b[0;36m0\u001b[0m\u001b[0;34m]\u001b[0m \u001b[0;32mif\u001b[0m \u001b[0;32mnot\u001b[0m \u001b[0mlong\u001b[0m\u001b[0;34m.\u001b[0m\u001b[0mempty\u001b[0m \u001b[0;32melse\u001b[0m \u001b[0;32mNone\u001b[0m\u001b[0;34m\u001b[0m\u001b[0m\n\u001b[0;32m----> 8\u001b[0;31m     \u001b[0mcrash\u001b[0m\u001b[0;34m[\u001b[0m\u001b[0;34m'year'\u001b[0m\u001b[0;34m]\u001b[0m \u001b[0;34m=\u001b[0m \u001b[0mcrash\u001b[0m\u001b[0;34m[\u001b[0m\u001b[0mEventDate\u001b[0m\u001b[0;34m]\u001b[0m\u001b[0;34m.\u001b[0m\u001b[0msplit\u001b[0m\u001b[0;34m(\u001b[0m\u001b[0;34m'/'\u001b[0m\u001b[0;34m)\u001b[0m\u001b[0;34m[\u001b[0m\u001b[0;34m-\u001b[0m\u001b[0;36m1\u001b[0m\u001b[0;34m]\u001b[0m\u001b[0;34m\u001b[0m\u001b[0m\n\u001b[0m\u001b[1;32m      9\u001b[0m \u001b[0;34m\u001b[0m\u001b[0m\n",
      "\u001b[0;31mNameError\u001b[0m: name 'EventDate' is not defined"
     ]
    }
   ],
   "source": [
    "for crash in data:\n",
    "    code = airports['iata_faa'] == crash['AirportCode']\n",
    "    airport = airports[code]\n",
    "    lat = airport['latitude']\n",
    "    long = airport['longitude'] \n",
    "    crash['airport_lat']  = lat.values[0] if not lat.empty else None \n",
    "    crash['airport_long']  = long.values[0] if not long.empty else None\n",
    "    crash['year'] = crash['EventDate'].split('/')[-1]\n",
    "    "
   ]
  },
  {
   "cell_type": "code",
   "execution_count": 63,
   "metadata": {},
   "outputs": [],
   "source": [
    "filters = (  lambda x: x['Latitude']\n",
    "           , lambda x: int(x['TotalFatalInjuries'] or 0) > 0\n",
    "           , lambda x: x['AirportCode']\n",
    "           , lambda x: x['airport_lat']\n",
    "          )\n",
    "data = list(nFilter(filters, data))\n"
   ]
  },
  {
   "cell_type": "code",
   "execution_count": 70,
   "metadata": {},
   "outputs": [],
   "source": [
    "with open(\"data/Aviation.json\", 'w') as f:\n",
    "    j = json.dumps(data)\n",
    "    f.write(j)"
   ]
  },
  {
   "cell_type": "code",
   "execution_count": 67,
   "metadata": {},
   "outputs": [
    {
     "data": {
      "text/plain": [
       "937"
      ]
     },
     "execution_count": 67,
     "metadata": {},
     "output_type": "execute_result"
    }
   ],
   "source": [
    "len(data)"
   ]
  },
  {
   "cell_type": "code",
   "execution_count": null,
   "metadata": {},
   "outputs": [],
   "source": []
  }
 ],
 "metadata": {
  "kernelspec": {
   "display_name": "Python 3",
   "language": "python",
   "name": "python3"
  },
  "language_info": {
   "codemirror_mode": {
    "name": "ipython",
    "version": 3
   },
   "file_extension": ".py",
   "mimetype": "text/x-python",
   "name": "python",
   "nbconvert_exporter": "python",
   "pygments_lexer": "ipython3",
   "version": "3.6.4"
  }
 },
 "nbformat": 4,
 "nbformat_minor": 2
}
